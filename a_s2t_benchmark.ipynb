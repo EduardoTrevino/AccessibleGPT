{
 "cells": [
  {
   "cell_type": "code",
   "execution_count": null,
   "metadata": {},
   "outputs": [],
   "source": [
    "# For speech-to-text using Azure Speech Services\n",
    "import azure.cognitiveservices.speech as speechsdk\n",
    "\n",
    "# Set up the speech recognizer\n",
    "speech_config = speechsdk.SpeechConfig(subscription=\"<your-subscription-key>\", region=\"<your-service-region>\")\n",
    "audio_config = speechsdk.AudioConfig(use_default_microphone=True)\n",
    "speech_recognizer = speechsdk.SpeechRecognizer(speech_config=speech_config, audio_config=audio_config)\n",
    "\n",
    "# Start recognition\n",
    "result = speech_recognizer.recognize_once()\n",
    "\n",
    "# Print the recognized text\n",
    "print(result.text)\n"
   ]
  },
  {
   "cell_type": "code",
   "execution_count": null,
   "metadata": {},
   "outputs": [],
   "source": [
    "# For speech-to-text using Whisper\n",
    "import openai\n",
    "openai.api_key = \"YOUR_API_KEY\"\n",
    "\n",
    "# Set up the parameters for the transcription\n",
    "model_engine = \"davinci\" # You can choose a different model engine if you prefer\n",
    "audio_file = open(\"YOUR_AUDIO_FILE.wav\", \"rb\").read()\n",
    "parameters = {\n",
    "    \"engine\": model_engine,\n",
    "    \"audio\": audio_file,\n",
    "    \"format\": \"wav\",\n",
    "    \"decode_mode\": \"realtime\",\n",
    "}\n",
    "\n",
    "# Start the transcription and get the response\n",
    "response = openai.Completion.create(parameters=parameters)\n",
    "\n",
    "# Print the transcription and confidence score\n",
    "print(response.choices[0].text)\n",
    "print(response.choices[0].confidence)\n"
   ]
  },
  {
   "cell_type": "code",
   "execution_count": null,
   "metadata": {},
   "outputs": [],
   "source": []
  }
 ],
 "metadata": {
  "language_info": {
   "name": "python"
  },
  "orig_nbformat": 4
 },
 "nbformat": 4,
 "nbformat_minor": 2
}
